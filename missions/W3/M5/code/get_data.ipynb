{
 "cells": [
  {
   "cell_type": "code",
   "execution_count": 15,
   "metadata": {},
   "outputs": [
    {
     "name": "stdout",
     "output_type": "stream",
     "text": [
      "zip file already exists.\n",
      "folder already exists.\n"
     ]
    }
   ],
   "source": [
    "import requests\n",
    "import zipfile\n",
    "from tqdm import tqdm\n",
    "import os\n",
    "\n",
    "# URL 및 파일 경로 설정\n",
    "url = \"https://files.grouplens.org/datasets/movielens/ml-20m.zip\"\n",
    "zip_name = \"ml-20m.zip\"\n",
    "csv_name = \"ml-20m/ratings.csv\"\n",
    "\n",
    "def download_file(url, zip_name):\n",
    "    response = requests.get(url, stream=True)\n",
    "    total_size = int(response.headers.get(\"content-length\", 0))\n",
    "    chunk_size = 1024\n",
    "    with open(zip_name, \"wb\") as file, tqdm(\n",
    "        desc=f\"Downloading {zip_name}\",\n",
    "        total=total_size,\n",
    "        unit=\"B\",\n",
    "        unit_scale=True,\n",
    "        unit_divisor=1024,\n",
    "    ) as bar:\n",
    "        for chunk in response.iter_content(chunk_size=chunk_size):\n",
    "            if chunk:\n",
    "                file.write(chunk)\n",
    "                bar.update(len(chunk))  # 진행률 바 업데이트\n",
    "\n",
    "def extract_zip(file_name):\n",
    "    with zipfile.ZipFile(file_name, \"r\") as zipf:\n",
    "        if csv_name in zipf.namelist():\n",
    "            zipf.extract(csv_name)\n",
    "        else:\n",
    "            print('CSV file is not found in the ZIP file.')\n",
    "\n",
    "def main():\n",
    "    if not os.path.exists(zip_name):\n",
    "        download_file(url, zip_name)\n",
    "    else:\n",
    "        print(\"zip file already exists.\")\n",
    "\n",
    "    if not os.path.exists(csv_name):\n",
    "        extract_zip(zip_name)\n",
    "    else:\n",
    "        print(\"file already exists.\")\n",
    "\n",
    "if __name__ == \"__main__\":\n",
    "    main()\n"
   ]
  },
  {
   "cell_type": "code",
   "execution_count": 12,
   "metadata": {},
   "outputs": [
    {
     "name": "stdout",
     "output_type": "stream",
     "text": [
      "['ml-20m/', 'ml-20m/genome-scores.csv', 'ml-20m/genome-tags.csv', 'ml-20m/links.csv', 'ml-20m/movies.csv', 'ml-20m/ratings.csv', 'ml-20m/README.txt', 'ml-20m/tags.csv']\n"
     ]
    }
   ],
   "source": [
    "with zipfile.ZipFile(zip_name, \"r\") as zipf:\n",
    "    print(zipf.namelist())"
   ]
  }
 ],
 "metadata": {
  "kernelspec": {
   "display_name": "softeer",
   "language": "python",
   "name": "python3"
  },
  "language_info": {
   "codemirror_mode": {
    "name": "ipython",
    "version": 3
   },
   "file_extension": ".py",
   "mimetype": "text/x-python",
   "name": "python",
   "nbconvert_exporter": "python",
   "pygments_lexer": "ipython3",
   "version": "3.10.16"
  }
 },
 "nbformat": 4,
 "nbformat_minor": 2
}
