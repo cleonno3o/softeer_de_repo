{
 "cells": [
  {
   "cell_type": "code",
   "execution_count": 23,
   "metadata": {},
   "outputs": [],
   "source": [
    "import requests\n",
    "import zipfile\n",
    "import os\n",
    "\n",
    "# URL 및 파일 경로 설정\n",
    "url = \"https://files.grouplens.org/datasets/movielens/ml-20m.zip\"\n",
    "zip_name = \"ml-20m.zip\"\n",
    "extract_path = \"./ml-20m\"\n",
    "\n",
    "def download_file(url, zip_name):\n",
    "    response = requests.get(url, stream=True)\n",
    "    with open(zip_name, \"wb\") as fp:\n",
    "        for chunk in response.iter_content(chunk_size=1024):\n",
    "            if chunk:\n",
    "                fp.write(chunk)\n",
    "\n",
    "def extract_zip(file_name, extract_path):\n",
    "    with zipfile.ZipFile(file_name, \"r\") as zip_ref:\n",
    "        zip_ref.extractall(extract_path)\n",
    "\n",
    "def main():\n",
    "    if not os.path.exists(zip_name):\n",
    "        download_file(url, zip_name)\n",
    "    else:\n",
    "        print(f\"{zip_name} already exists, skipping download.\")\n",
    "    if not os.path.ex\n",
    "    if not os.path.exists(extract_path):\n",
    "        extract_zip(file_name, extract_path)\n",
    "    else:\n",
    "        print(f\"{extract_path} already exists, skipping extraction.\")\n",
    "\n",
    "if __name__ == \"__main__\":\n",
    "    main()\n"
   ]
  }
 ],
 "metadata": {
  "kernelspec": {
   "display_name": "softeer",
   "language": "python",
   "name": "python3"
  },
  "language_info": {
   "codemirror_mode": {
    "name": "ipython",
    "version": 3
   },
   "file_extension": ".py",
   "mimetype": "text/x-python",
   "name": "python",
   "nbconvert_exporter": "python",
   "pygments_lexer": "ipython3",
   "version": "3.10.16"
  }
 },
 "nbformat": 4,
 "nbformat_minor": 2
}
