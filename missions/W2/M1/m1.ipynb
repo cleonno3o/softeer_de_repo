{
 "cells": [
  {
   "cell_type": "code",
   "execution_count": 23,
   "metadata": {},
   "outputs": [],
   "source": [
    "import multiprocessing as mp\n",
    "from multiprocessing import Pool\n",
    "import time\n",
    "class Task:\n",
    "    def __init__(self, name:str, time:int):\n",
    "        self.name = name\n",
    "        self.time = time\n",
    "    \n",
    "def work(task:Task):\n",
    "    print(f'Process {task.name} waiting {task.time} seconds')\n",
    "    time.sleep(task.time)\n",
    "    print(f'Process {task.name} Finished.')\n",
    "    return\n",
    "\n",
    "def work2(i):\n",
    "    print(i)\n",
    "    time.sleep(2)\n",
    "    print('end')\n",
    "if __name__ == \"__main__\":\n",
    "    # task_list = [Task('A', 5), Task('B', 2), Task('C', 1), Task('D', 3)]\n",
    "    workers = 2\n",
    "    pool = Pool(workers)\n",
    "    pool.map(work2, [1,2,3,4,5])\n",
    "    # pool.map(work, task_list)"
   ]
  }
 ],
 "metadata": {
  "kernelspec": {
   "display_name": "softeer",
   "language": "python",
   "name": "python3"
  },
  "language_info": {
   "codemirror_mode": {
    "name": "ipython",
    "version": 3
   },
   "file_extension": ".py",
   "mimetype": "text/x-python",
   "name": "python",
   "nbconvert_exporter": "python",
   "pygments_lexer": "ipython3",
   "version": "3.10.16"
  }
 },
 "nbformat": 4,
 "nbformat_minor": 2
}
